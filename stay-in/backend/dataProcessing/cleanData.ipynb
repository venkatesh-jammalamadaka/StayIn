{
 "cells": [
  {
   "cell_type": "code",
   "execution_count": 2,
   "metadata": {},
   "outputs": [],
   "source": [
    "import pandas as pd\n",
    "import json\n",
    "\n",
    "import csv, sqlite3\n",
    "from sqlite3 import Error\n",
    "import time"
   ]
  },
  {
   "cell_type": "code",
   "execution_count": 3,
   "metadata": {},
   "outputs": [],
   "source": [
    "# df = pd.read_json(\"propertiesForSale.json\")"
   ]
  },
  {
   "cell_type": "code",
   "execution_count": 4,
   "metadata": {},
   "outputs": [],
   "source": [
    "# len(df[\"hits\"])"
   ]
  },
  {
   "cell_type": "code",
   "execution_count": null,
   "metadata": {},
   "outputs": [],
   "source": []
  },
  {
   "cell_type": "code",
   "execution_count": null,
   "metadata": {},
   "outputs": [],
   "source": [
    "\n",
    "\n"
   ]
  },
  {
   "cell_type": "code",
   "execution_count": 6,
   "metadata": {},
   "outputs": [],
   "source": [
    "def Merge(dict1, dict2):\n",
    "    return(dict2.update(dict1))\n",
    "\n",
    "def extractData(df, purpose):\n",
    "    finalDict = {}\n",
    "    for j in range(0, len(df[\"hits\"])):\n",
    "        print(j)\n",
    "        df1 = df[\"hits\"][j]\n",
    "\n",
    "        columnList = [\"id\", \"userID\", \"state\", \"lat\", \"long\", \"purpose\", \"price\", \"title\", \"rooms\", \"baths\", \"area\", \"photoUrl\", \"contact_name\"]\n",
    "        columnFromJsonList = [\"id\", \"ownerID\", \"state\",\"_geoloc['lat']\", \"_geoloc['lng']\", \"purpose\", \"price\", \"title\", \"rooms\", \"baths\", \"area\", \"coverPhoto['url']\", \"contactName\"]\n",
    "        \n",
    "        i =0\n",
    "        dictList = []\n",
    "        for i in range(0,len(columnList)):\n",
    "            \n",
    "            # dictList.append((columnList[i], df1[columnFromJsonList[i]]))\n",
    "            if(i == 3):\n",
    "                #print((columnList[i], df1[\"_geoloc\"][\"lat\"]))\n",
    "                dictList.append((columnList[i], df1[\"_geoloc\"][\"lat\"]))\n",
    "            elif(i==4):\n",
    "                # print((columnList[i], df1[\"_geoloc\"][\"lng\"]))\n",
    "                dictList.append((columnList[i], df1[\"_geoloc\"][\"lng\"]))\n",
    "            elif(i==11):\n",
    "                # print((columnList[i], df1[\"coverPhoto\"][\"url\"]))\n",
    "                dictList.append((columnList[i], df1[\"coverPhoto\"][\"url\"]))\n",
    "            else:\n",
    "                # print((columnList[i], df1[columnFromJsonList[i]]))\n",
    "                dictList.append((columnList[i], df1[columnFromJsonList[i]]))\n",
    "         \n",
    "        with open(\"{p}.json\".format(p=purpose), \"a\") as outfile:\n",
    "            if(j==0):\n",
    "                outfile.write(\"[\")\n",
    "            outfile.write(json.dumps(dict(dictList)))\n",
    "       \n",
    "            if(j!=len(df[\"hits\"])):\n",
    "                outfile.write(\",\")\n",
    "   \n",
    "                \n",
    "    \n",
    "            "
   ]
  },
  {
   "cell_type": "code",
   "execution_count": 22,
   "metadata": {},
   "outputs": [],
   "source": [
    "def convertToCSV(ip, op):\n",
    "\n",
    "\twith open(\"./{input}.json\".format(input = ip)) as json_file:\n",
    "\t\tjsondata = json.load(json_file)\n",
    "\n",
    "\tdata_file = open(\"./{output}.csv\".format(output=op), 'w', newline='')\n",
    "\tcsv_writer = csv.writer(data_file)\n",
    "\n",
    "\tcount = 0\n",
    "\tfor data in jsondata:\n",
    "\t\tif count == 0:\n",
    "\t\t\theader = data.keys()\n",
    "\t\t\tcsv_writer.writerow(header)\n",
    "\t\t\tcount += 1\n",
    "\t\tcsv_writer.writerow(data.values())\n",
    "\n",
    "\tdata_file.close()\n",
    "\n"
   ]
  },
  {
   "cell_type": "code",
   "execution_count": 25,
   "metadata": {},
   "outputs": [
    {
     "name": "stdout",
     "output_type": "stream",
     "text": [
      "0\n",
      "1\n",
      "2\n",
      "3\n",
      "4\n",
      "5\n",
      "6\n",
      "7\n",
      "8\n",
      "9\n",
      "10\n",
      "11\n",
      "12\n",
      "13\n",
      "14\n",
      "15\n",
      "16\n",
      "17\n",
      "18\n",
      "19\n",
      "20\n",
      "21\n",
      "22\n",
      "23\n",
      "24\n"
     ]
    }
   ],
   "source": [
    "# \"My name is {fname}, I'm {age}\".format(fname = \"John\", age = 36)\n",
    "\n",
    "extractData(pd.read_json(\"propertiesForSale.json\"), \"Sale\")\n",
    "\n",
    "\n"
   ]
  },
  {
   "cell_type": "code",
   "execution_count": 26,
   "metadata": {},
   "outputs": [
    {
     "name": "stdout",
     "output_type": "stream",
     "text": [
      "0\n",
      "1\n",
      "2\n",
      "3\n",
      "4\n",
      "5\n",
      "6\n",
      "7\n",
      "8\n",
      "9\n",
      "10\n",
      "11\n",
      "12\n",
      "13\n",
      "14\n",
      "15\n",
      "16\n",
      "17\n",
      "18\n",
      "19\n",
      "20\n",
      "21\n",
      "22\n",
      "23\n",
      "24\n"
     ]
    }
   ],
   "source": [
    "extractData(pd.read_json(\"propertiesForRent.json\"), \"Rent\")\n",
    "\n"
   ]
  },
  {
   "cell_type": "code",
   "execution_count": 27,
   "metadata": {},
   "outputs": [],
   "source": [
    "convertToCSV(\"Sale\", \"SaleCSV\")\n",
    "convertToCSV(\"Rent\", \"RentCSV\")"
   ]
  },
  {
   "cell_type": "code",
   "execution_count": 18,
   "metadata": {},
   "outputs": [],
   "source": [
    "\n",
    "\n",
    "# Create a test DB\n",
    "def create_connection(db_file):\n",
    "    \"\"\" create a database connection to a SQLite database \"\"\"\n",
    "    conn = None\n",
    "    try:\n",
    "        conn = sqlite3.connect(db_file)\n",
    "        print(sqlite3.version)\n",
    "    except Error as e:\n",
    "        print(e)\n",
    "    finally:\n",
    "        if conn:\n",
    "            conn.close()\n",
    "\n",
    "\n",
    "\n",
    "#create_connection(r\"./test.db\")\n",
    "\n",
    "# Putting data\n",
    "def putInDB(inputFile):\n",
    "    con = sqlite3.connect(\"./test.db\") # change to 'sqlite:///your_filename.db'\n",
    "    cur = con.cursor()\n",
    "    # cur.execute(\"DROP TABLE for_sale;\")\n",
    "    # cur.execute(\"CREATE TABLE for_rent (id, userID, state, lat, long, purpose, price, title, rooms, baths, area, photoUrl, contact_name);\") # use your column names here\n",
    "    \n",
    "    # # cur.execute(\"ALTER TABLE for_sale DROP COLUMN \")\n",
    "\n",
    "    with open('./{file}.csv'.format(file=inputFile),'r') as fin: # `with` statement available in 2.5+\n",
    "        # csv.DictReader uses first line in file for column headings by default\n",
    "        dr = csv.DictReader(fin) # comma is default delimiter\n",
    "        to_db = [(i['id'], i['userID'], i['state'], i['lat'],i['long'], i['purpose'],i['price'], i['title'],i['rooms'], i['baths'],i['area'], i['photoUrl'],i['contact_name']) for i in dr]\n",
    "\n",
    "    cur.executemany(\"INSERT INTO for_rent (id, userID, state, lat, long, purpose, price, title, rooms, baths, area, photoUrl, contact_name) VALUES (?, ?,?, ?,?, ?,?, ?,?, ?,?, ?,?);\", to_db)\n",
    "    con.commit()\n",
    "    con.close()\n",
    "    \n",
    "# putInDB(\"SaleCSV\")"
   ]
  },
  {
   "cell_type": "code",
   "execution_count": 19,
   "metadata": {},
   "outputs": [],
   "source": [
    "putInDB(\"RentCSV\")"
   ]
  },
  {
   "cell_type": "code",
   "execution_count": null,
   "metadata": {},
   "outputs": [],
   "source": []
  }
 ],
 "metadata": {
  "interpreter": {
   "hash": "31f2aee4e71d21fbe5cf8b01ff0e069b9275f58929596ceb00d14d90e3e16cd6"
  },
  "kernelspec": {
   "display_name": "Python 3.8.9 64-bit",
   "language": "python",
   "name": "python3"
  },
  "language_info": {
   "codemirror_mode": {
    "name": "ipython",
    "version": 3
   },
   "file_extension": ".py",
   "mimetype": "text/x-python",
   "name": "python",
   "nbconvert_exporter": "python",
   "pygments_lexer": "ipython3",
   "version": "3.8.9"
  },
  "orig_nbformat": 4
 },
 "nbformat": 4,
 "nbformat_minor": 2
}
